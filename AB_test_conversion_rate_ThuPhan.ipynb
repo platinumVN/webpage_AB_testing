{
  "cells": [
    {
      "cell_type": "markdown",
      "metadata": {
        "id": "5S66sDofCWvQ"
      },
      "source": [
        "**Phan Lê Anh Thư**\n",
        "\n",
        "- Kiểm định tỉ lệ chuyển đổi của 2 mẫu landing page bằng phương pháp binomial test. (Notebook này)"
      ]
    },
    {
      "cell_type": "code",
      "execution_count": 1,
      "metadata": {
        "id": "Hs4YXOjCCWvX"
      },
      "outputs": [],
      "source": [
        "import pandas as pd\n",
        "import numpy as np\n",
        "import datetime\n",
        "from scipy.stats import chi2_contingency, beta\n",
        "from IPython.display import Image"
      ]
    },
    {
      "cell_type": "markdown",
      "metadata": {
        "id": "ny1FuFDvCWva"
      },
      "source": [
        "### 1. Mô tả thí nghiệm\n",
        "\n",
        "Công ty phát triển một landing page mới và muốn test ảnh hưởng của 2 giao diện đến tỉ lệ chuyện đổi. Người dùng được chia làm 2 groups:\n",
        "\n",
        "1. **Control**: Dùng bản cũ (old_page)\n",
        "2. **Test/Treament**: Dùng bản mới (new_page)\n",
        "\n",
        "**Tỉ lệ chuyển đổi (Conversion rate) = % (# Converted Users/# Exposed Users)**\n",
        "\n",
        "Dự án chạy trong vòng 3 tuần, track liên tục data của người dùng về 2 hành động:\n",
        "1. **Exposure**: Một người dùng truy cập trang. Người dùng được phân loại vào một trong 2 groups và ghi lại các trang liên quan trong lần đầu ghé page theo timestamp.\n",
        "2. **Conversion**: Người dùng đã exposed trong vòng 7 ngày thực hiện giao dịch mua hàng."
      ]
    },
    {
      "cell_type": "markdown",
      "metadata": {
        "id": "DX_4tNrpCWvb"
      },
      "source": [
        "### 2. Data Collection"
      ]
    },
    {
      "cell_type": "markdown",
      "metadata": {
        "id": "r7DdvssVCWvc"
      },
      "source": [
        "A/B testing data: https://www.kaggle.com/saraabdelaal/abtestdata"
      ]
    },
    {
      "cell_type": "code",
      "execution_count": 2,
      "metadata": {
        "id": "rUnshwYJCWvd"
      },
      "outputs": [],
      "source": [
        "df = pd.read_csv('ab_data.csv')"
      ]
    },
    {
      "cell_type": "code",
      "execution_count": 3,
      "metadata": {
        "id": "XGnovTK6CWve",
        "outputId": "9cb1469d-1ebc-4a0f-cd09-d82bab6137e5"
      },
      "outputs": [
        {
          "data": {
            "text/plain": [
              "(294478, 5)"
            ]
          },
          "execution_count": 3,
          "metadata": {},
          "output_type": "execute_result"
        }
      ],
      "source": [
        "df.shape"
      ]
    },
    {
      "cell_type": "code",
      "execution_count": 4,
      "metadata": {
        "id": "HDBbON4eCWvf",
        "outputId": "cb6b1d8b-e735-455e-8aa9-d76c616866da"
      },
      "outputs": [
        {
          "data": {
            "text/html": [
              "<div>\n",
              "<style scoped>\n",
              "    .dataframe tbody tr th:only-of-type {\n",
              "        vertical-align: middle;\n",
              "    }\n",
              "\n",
              "    .dataframe tbody tr th {\n",
              "        vertical-align: top;\n",
              "    }\n",
              "\n",
              "    .dataframe thead th {\n",
              "        text-align: right;\n",
              "    }\n",
              "</style>\n",
              "<table border=\"1\" class=\"dataframe\">\n",
              "  <thead>\n",
              "    <tr style=\"text-align: right;\">\n",
              "      <th></th>\n",
              "      <th>user_id</th>\n",
              "      <th>timestamp</th>\n",
              "      <th>group</th>\n",
              "      <th>landing_page</th>\n",
              "      <th>converted</th>\n",
              "    </tr>\n",
              "  </thead>\n",
              "  <tbody>\n",
              "    <tr>\n",
              "      <th>191259</th>\n",
              "      <td>789201</td>\n",
              "      <td>2017-01-05 14:19:56.295213</td>\n",
              "      <td>control</td>\n",
              "      <td>old_page</td>\n",
              "      <td>0</td>\n",
              "    </tr>\n",
              "    <tr>\n",
              "      <th>198847</th>\n",
              "      <td>895168</td>\n",
              "      <td>2017-01-24 11:33:29.798136</td>\n",
              "      <td>control</td>\n",
              "      <td>old_page</td>\n",
              "      <td>0</td>\n",
              "    </tr>\n",
              "  </tbody>\n",
              "</table>\n",
              "</div>"
            ],
            "text/plain": [
              "        user_id                   timestamp    group landing_page  converted\n",
              "191259   789201  2017-01-05 14:19:56.295213  control     old_page          0\n",
              "198847   895168  2017-01-24 11:33:29.798136  control     old_page          0"
            ]
          },
          "execution_count": 4,
          "metadata": {},
          "output_type": "execute_result"
        }
      ],
      "source": [
        "df.sample(2)"
      ]
    },
    {
      "cell_type": "markdown",
      "metadata": {
        "id": "eyRSUaUNCWvg"
      },
      "source": [
        "Mỗi hàng dữ liệu chứ một lượt expose của user_id\n",
        "- **timestamp**: thời gian\n",
        "- **group**: nhóm\n",
        "- **landing_page**: bản page mà họ truy cập (old_page hay new_page, tương ứng với group)\n",
        "- **converted**: Mặc định là 0, chuyển thành 1 nếu họ convert trong 7 ngày kể từ lần expose đầu tiên."
      ]
    },
    {
      "cell_type": "code",
      "execution_count": 5,
      "metadata": {
        "id": "xoqD-I3YCWvh",
        "outputId": "0b5902cf-fbaa-4786-9f96-367cbd126c68"
      },
      "outputs": [
        {
          "name": "stdout",
          "output_type": "stream",
          "text": [
            "Number of unique users in experiment: 290584\n",
            "Data collected for 21 days\n",
            "Landing pages to compare: ['old_page', 'new_page']\n",
            "Percentage of users in control: 50%\n"
          ]
        }
      ],
      "source": [
        "start_time = datetime.datetime.strptime(df['timestamp'].min(), '%Y-%m-%d %H:%M:%S.%f')\n",
        "end_time = datetime.datetime.strptime(df['timestamp'].max(), '%Y-%m-%d %H:%M:%S.%f')\n",
        "data_duration = (end_time - start_time).days\n",
        "\n",
        "print(f\"Number of unique users in experiment: {df['user_id'].nunique()}\")\n",
        "print(f\"Data collected for {data_duration} days\")\n",
        "print(f\"Landing pages to compare: {df['landing_page'].unique().tolist()}\")\n",
        "print(f\"Percentage of users in control: {round(df[df['group']=='control'].shape[0] * 100 / df.shape[0])}%\")"
      ]
    },
    {
      "cell_type": "markdown",
      "metadata": {
        "id": "EZCKLakXCWvi"
      },
      "source": [
        "Tổng quan về thử nghiệm:\n",
        "- Có 290584 người sử dụng tham gia\n",
        "- Diễn ra trong vòng 21 ngày\n",
        "- Chạy trên 2 mẫu landing page (group): old_page(control group) và new_page(treatment group)\n",
        "- Chia đều user vào 2 group (50/50 trong mỗi group)"
      ]
    },
    {
      "cell_type": "markdown",
      "metadata": {
        "id": "mzEGWmi9CWvj"
      },
      "source": [
        "### 3. Data Processing"
      ]
    },
    {
      "cell_type": "markdown",
      "metadata": {
        "id": "0i8NgO1OCWvj"
      },
      "source": [
        "**Xử lí các user_id lặp lại nhiều lần ở các group khác nhau**"
      ]
    },
    {
      "cell_type": "code",
      "execution_count": 6,
      "metadata": {
        "id": "Ip_QtTPxCWvj",
        "outputId": "10bd7baf-50c7-4af9-b79e-94b25ea787be"
      },
      "outputs": [
        {
          "data": {
            "text/html": [
              "<div>\n",
              "<style scoped>\n",
              "    .dataframe tbody tr th:only-of-type {\n",
              "        vertical-align: middle;\n",
              "    }\n",
              "\n",
              "    .dataframe tbody tr th {\n",
              "        vertical-align: top;\n",
              "    }\n",
              "\n",
              "    .dataframe thead th {\n",
              "        text-align: right;\n",
              "    }\n",
              "</style>\n",
              "<table border=\"1\" class=\"dataframe\">\n",
              "  <thead>\n",
              "    <tr style=\"text-align: right;\">\n",
              "      <th></th>\n",
              "      <th>user_id</th>\n",
              "      <th>timestamp</th>\n",
              "      <th>group</th>\n",
              "      <th>landing_page</th>\n",
              "      <th>converted</th>\n",
              "    </tr>\n",
              "  </thead>\n",
              "  <tbody>\n",
              "    <tr>\n",
              "      <th>29073</th>\n",
              "      <td>746755</td>\n",
              "      <td>2017-01-11 01:28:57.083669</td>\n",
              "      <td>control</td>\n",
              "      <td>new_page</td>\n",
              "      <td>1</td>\n",
              "    </tr>\n",
              "    <tr>\n",
              "      <th>105487</th>\n",
              "      <td>722274</td>\n",
              "      <td>2017-01-19 01:46:53.093257</td>\n",
              "      <td>control</td>\n",
              "      <td>old_page</td>\n",
              "      <td>0</td>\n",
              "    </tr>\n",
              "    <tr>\n",
              "      <th>262554</th>\n",
              "      <td>722274</td>\n",
              "      <td>2017-01-09 21:21:23.638444</td>\n",
              "      <td>control</td>\n",
              "      <td>new_page</td>\n",
              "      <td>0</td>\n",
              "    </tr>\n",
              "    <tr>\n",
              "      <th>286566</th>\n",
              "      <td>746755</td>\n",
              "      <td>2017-01-05 03:40:08.457451</td>\n",
              "      <td>control</td>\n",
              "      <td>old_page</td>\n",
              "      <td>0</td>\n",
              "    </tr>\n",
              "  </tbody>\n",
              "</table>\n",
              "</div>"
            ],
            "text/plain": [
              "        user_id                   timestamp    group landing_page  converted\n",
              "29073    746755  2017-01-11 01:28:57.083669  control     new_page          1\n",
              "105487   722274  2017-01-19 01:46:53.093257  control     old_page          0\n",
              "262554   722274  2017-01-09 21:21:23.638444  control     new_page          0\n",
              "286566   746755  2017-01-05 03:40:08.457451  control     old_page          0"
            ]
          },
          "execution_count": 6,
          "metadata": {},
          "output_type": "execute_result"
        }
      ],
      "source": [
        "sample = df[df['user_id'].isin([746755,722274])]\n",
        "sample"
      ]
    },
    {
      "cell_type": "markdown",
      "metadata": {
        "id": "OdQsrVd2CWvk"
      },
      "source": [
        "Chú ý là user có id 722274 lặp lại 2 lần ở 2 group khác nhau, điều này không thỏa điều kiệu của testing. \n",
        "Với các user lặp lại này ta có thể: \n",
        "1. chỉ tính lần truy cập đầu tiên theo timestamp;\n",
        "2. xem xét phương án lọc hẳn các user này khỏi dataset."
      ]
    },
    {
      "cell_type": "code",
      "execution_count": 7,
      "metadata": {
        "id": "Jv9GyqgkCWvk",
        "outputId": "24a57dbf-2514-4f0b-b591-680467a777b7"
      },
      "outputs": [
        {
          "data": {
            "text/html": [
              "<div>\n",
              "<style scoped>\n",
              "    .dataframe tbody tr th:only-of-type {\n",
              "        vertical-align: middle;\n",
              "    }\n",
              "\n",
              "    .dataframe tbody tr th {\n",
              "        vertical-align: top;\n",
              "    }\n",
              "\n",
              "    .dataframe thead th {\n",
              "        text-align: right;\n",
              "    }\n",
              "</style>\n",
              "<table border=\"1\" class=\"dataframe\">\n",
              "  <thead>\n",
              "    <tr style=\"text-align: right;\">\n",
              "      <th></th>\n",
              "      <th>user_id</th>\n",
              "      <th>timestamp</th>\n",
              "      <th>group</th>\n",
              "      <th>landing_page</th>\n",
              "      <th>converted</th>\n",
              "    </tr>\n",
              "  </thead>\n",
              "  <tbody>\n",
              "    <tr>\n",
              "      <th>0</th>\n",
              "      <td>722274</td>\n",
              "      <td>2017-01-09 21:21:23.638444</td>\n",
              "      <td>control</td>\n",
              "      <td>new_page</td>\n",
              "      <td>0</td>\n",
              "    </tr>\n",
              "    <tr>\n",
              "      <th>1</th>\n",
              "      <td>746755</td>\n",
              "      <td>2017-01-05 03:40:08.457451</td>\n",
              "      <td>control</td>\n",
              "      <td>old_page</td>\n",
              "      <td>0</td>\n",
              "    </tr>\n",
              "  </tbody>\n",
              "</table>\n",
              "</div>"
            ],
            "text/plain": [
              "   user_id                   timestamp    group landing_page  converted\n",
              "0   722274  2017-01-09 21:21:23.638444  control     new_page          0\n",
              "1   746755  2017-01-05 03:40:08.457451  control     old_page          0"
            ]
          },
          "execution_count": 7,
          "metadata": {},
          "output_type": "execute_result"
        }
      ],
      "source": [
        "# 1. Get timestamp of first exposure\n",
        "first_conversion = sample.groupby('user_id')['timestamp'].min().to_frame().reset_index()\n",
        "sample = sample.merge(first_conversion, on=['user_id', 'timestamp'])\n",
        "sample"
      ]
    },
    {
      "cell_type": "code",
      "execution_count": 8,
      "metadata": {
        "id": "AgnYFPerCWvk",
        "outputId": "a4f352ef-83d2-4e0b-c7de-79073445c6a7"
      },
      "outputs": [
        {
          "data": {
            "text/plain": [
              "False    286690\n",
              "True       3894\n",
              "Name: user_id, dtype: int64"
            ]
          },
          "execution_count": 8,
          "metadata": {},
          "output_type": "execute_result"
        }
      ],
      "source": [
        "counter = df['user_id'].value_counts()\n",
        "(counter > 1).value_counts()"
      ]
    },
    {
      "cell_type": "markdown",
      "metadata": {
        "id": "ZbkRsWX7CWvl"
      },
      "source": [
        "3894/290584 (tương ứng khoảng 1.34%) user_id tiếp cận cả 2 group. Vì tỉ lệ khá nhỏ, ta lọc tất cả các record của các user_id này khỏi dataset."
      ]
    },
    {
      "cell_type": "code",
      "execution_count": 9,
      "metadata": {
        "id": "olyLd3-sCWvl"
      },
      "outputs": [],
      "source": [
        "#2. Remove users with multiple buckets\n",
        "valid_users = pd.DataFrame(counter[counter == 1].index, columns=['user_id'])\n",
        "df = df.merge(valid_users, on=['user_id'])"
      ]
    },
    {
      "cell_type": "markdown",
      "metadata": {
        "id": "qJCGTuWsCWvm"
      },
      "source": [
        "### 4. Binomial test"
      ]
    },
    {
      "cell_type": "code",
      "execution_count": 10,
      "metadata": {
        "id": "GzewaAsRCWvm",
        "outputId": "b9f1fec1-281a-4225-9c58-a48a02f9f353"
      },
      "outputs": [
        {
          "name": "stdout",
          "output_type": "stream",
          "text": [
            "Treatment Conversion Rate: 11.873%\n",
            "Control Conversion Rate: 12.017%\n",
            "Lift = -0.144%\n"
          ]
        }
      ],
      "source": [
        "# Calculate conversion rate\n",
        "\n",
        "control = df[df['group']=='control']\n",
        "treatment = df[df['group']=='treatment']\n",
        "\n",
        "control_conversion_perc = round(control['converted'].sum() * 100/ control['converted'].count(), 3)\n",
        "treatment_conversion_perc = round(treatment['converted'].sum() * 100/ treatment['converted'].count(), 3)\n",
        "lift = round(treatment_conversion_perc - control_conversion_perc, 3)\n",
        "\n",
        "print(f\"Treatment Conversion Rate: {treatment_conversion_perc}%\")\n",
        "print(f\"Control Conversion Rate: {control_conversion_perc}%\")\n",
        "print(f\"Lift = {lift}%\")"
      ]
    },
    {
      "cell_type": "code",
      "execution_count": 11,
      "metadata": {
        "id": "cNnIRM69CWvn"
      },
      "outputs": [],
      "source": [
        "# Compare the conversion rate\n",
        "\n",
        "n_sample_test = df['user_id'].nunique()\n",
        "conversion_rate_test = treatment_conversion_perc/100 # Var_1\n",
        "conversion_rate_control = control_conversion_perc/100 # Var_0\n",
        "\n",
        "# What is the hypothesis?\n",
        "# H0: r0 = r1\n",
        "# Ha: r0 < r1"
      ]
    },
    {
      "cell_type": "code",
      "execution_count": 12,
      "metadata": {
        "id": "w7aizQGjCWvn",
        "outputId": "bae75710-d719-40aa-bd11-b14dd4f90693"
      },
      "outputs": [
        {
          "data": {
            "text/plain": [
              "BinomTestResult(k=34038, n=286690, alternative='greater', proportion_estimate=0.11872754543234854, pvalue=0.9913797085486543)"
            ]
          },
          "execution_count": 12,
          "metadata": {},
          "output_type": "execute_result"
        }
      ],
      "source": [
        "# Should we deploy the test design? -> Co su dung ket qua khong?\n",
        "\n",
        "from scipy.stats import binomtest\n",
        "k = int(conversion_rate_test * n_sample_test) # Conversion rate of test, used for binomtest\n",
        "binomtest(k=k, n=n_sample_test, p=conversion_rate_control, alternative='greater')\n",
        "\n",
        "# alternative: two-sided #, greator < , less >"
      ]
    },
    {
      "cell_type": "markdown",
      "metadata": {
        "id": "Ez-D9F0RCWvo"
      },
      "source": [
        "pvalue=0.9913797085486543 >> alpha = 0.05\n",
        "\n",
        "Kết luận: không bác bỏ H0, không có bằng chứng thống kê cho thấy mẫu landing page mới tạo tỉ lệ chuyển đổi mua hàng lớn hơn mẫu cũ."
      ]
    },
    {
      "cell_type": "markdown",
      "metadata": {
        "id": "5QlCUfo9CWvo"
      },
      "source": [
        "---\n",
        "**Tham khảo: https://github.com/ajhalthor/bayesian-testing/**"
      ]
    }
  ],
  "metadata": {
    "colab": {
      "collapsed_sections": [],
      "name": "AB-test_conversion-rate_ThuPhan.ipynb",
      "provenance": []
    },
    "kernelspec": {
      "display_name": "Python 3",
      "language": "python",
      "name": "python3"
    },
    "language_info": {
      "codemirror_mode": {
        "name": "ipython",
        "version": 3
      },
      "file_extension": ".py",
      "mimetype": "text/x-python",
      "name": "python",
      "nbconvert_exporter": "python",
      "pygments_lexer": "ipython3",
      "version": "3.8.2"
    }
  },
  "nbformat": 4,
  "nbformat_minor": 0
}
